{
  "nbformat": 4,
  "nbformat_minor": 0,
  "metadata": {
    "colab": {
      "provenance": [],
      "authorship_tag": "ABX9TyNSRqGSrZFTOW+JOURTTMjH",
      "include_colab_link": true
    },
    "kernelspec": {
      "name": "python3",
      "display_name": "Python 3"
    },
    "language_info": {
      "name": "python"
    }
  },
  "cells": [
    {
      "cell_type": "markdown",
      "metadata": {
        "id": "view-in-github",
        "colab_type": "text"
      },
      "source": [
        "<a href=\"https://colab.research.google.com/github/MGino-BR/EntendAI/blob/main/EntendAI.ipynb\" target=\"_parent\"><img src=\"https://colab.research.google.com/assets/colab-badge.svg\" alt=\"Open In Colab\"/></a>"
      ]
    },
    {
      "cell_type": "markdown",
      "source": [
        "# Projeto EntendAI"
      ],
      "metadata": {
        "id": "mNT0y0OodquT"
      }
    },
    {
      "cell_type": "markdown",
      "source": [
        "\n",
        "Projeto criativo e divertido que fornece toda a ajuda necessária para facilitar a comunicação em geral.\n",
        "\n",
        "Sabemos que hoje a barreira da comunicação é principal gatilho para brigas e tomadas de decisões erradas na sociedade, com o auxílio desta ferramenta as pessoas poderão se comunicar e conectar com as raízes de outras gerações e/ou regiões do Brasil!\n",
        "\n",
        "O projeto se compromete a:\n",
        "\n",
        "1. Fazer tradução de palavras e expressões regionais do Brasil para o idioma selecionado.\n",
        "\n",
        "2. Fazer tradução intergeracional de palavras e expressões, usando o google.search para estar sempre atualizado. (GenZ, GenY, GenX, Baby Boomers)."
      ],
      "metadata": {
        "id": "QWQkUfYpe6ne"
      }
    },
    {
      "cell_type": "markdown",
      "source": [
        "## Configurações Iniciais\n",
        "\n"
      ],
      "metadata": {
        "id": "HEehz5JkfhxH"
      }
    },
    {
      "cell_type": "markdown",
      "source": [
        "Instalação de biblioteca Python dos modelos IA do Google.\n",
        "\n",
        "---\n",
        "\n"
      ],
      "metadata": {
        "id": "H57iQKTYgOoq"
      }
    },
    {
      "cell_type": "code",
      "execution_count": 2,
      "metadata": {
        "id": "7w76bPAib0kB"
      },
      "outputs": [],
      "source": [
        "# Instala a biblioteca Python dos modelos de IA generativa do Google\n",
        "!pip -q install google-genai"
      ]
    },
    {
      "cell_type": "markdown",
      "source": [
        "Configuração da API Key do Google Gemini.\n",
        "\n",
        "---"
      ],
      "metadata": {
        "id": "NbvtCuxMfzhs"
      }
    },
    {
      "cell_type": "code",
      "source": [
        "# Configura a API Key do Google Gemini\n",
        "import os\n",
        "from google.colab import userdata\n",
        "\n",
        "os.environ[\"GOOGLE_API_KEY\"] = userdata.get('GOOGLE_API_KEY')"
      ],
      "metadata": {
        "id": "Iekdeu1bgylz"
      },
      "execution_count": 3,
      "outputs": []
    },
    {
      "cell_type": "markdown",
      "source": [
        "Configuração da SDK do Gemini.\n",
        "\n",
        "---"
      ],
      "metadata": {
        "id": "k-cRdYo5h5V6"
      }
    },
    {
      "cell_type": "code",
      "source": [
        "# Configura o cliente da SDK do Gemini\n",
        "from google import genai\n",
        "\n",
        "client = genai.Client()\n",
        "\n",
        "MODEL_ID = \"gemini-2.0-flash\""
      ],
      "metadata": {
        "id": "dGIeDfDVh8i4"
      },
      "execution_count": 4,
      "outputs": []
    },
    {
      "cell_type": "markdown",
      "source": [
        "Configuração de exibição de texto formatado no Colab.\n",
        "\n",
        "---"
      ],
      "metadata": {
        "id": "syMHTF8km0C_"
      }
    },
    {
      "cell_type": "code",
      "source": [
        "# Função auxiliar para exibir texto formatado em Markdown no Colab\n",
        "from IPython.display import HTML, Markdown, display\n",
        "import textwrap\n",
        "\n",
        "def to_markdown(text):\n",
        "  text = text.replace('•', '  *')\n",
        "  return Markdown(textwrap.indent(text, '> ', predicate=lambda _: True))"
      ],
      "metadata": {
        "id": "L8ROQ0iBm6jT"
      },
      "execution_count": 15,
      "outputs": []
    },
    {
      "cell_type": "markdown",
      "source": [
        "## Código do Projeto\n",
        "---"
      ],
      "metadata": {
        "id": "oX08hCHekHoL"
      }
    },
    {
      "cell_type": "code",
      "source": [
        "def enviar_prompt(prompt):\n",
        "  #Envia um prompt para o Gemini e retorna a resposta.\n",
        "  response = client.models.generate_content(\n",
        "    model=MODEL_ID,\n",
        "    contents= prompt,\n",
        "    config={\"tools\":[{\"google_search\": {}}]}\n",
        "  )\n",
        "  return response.text\n",
        "\n",
        "def traduzir_regional(termo, estado, lingua_destino):\n",
        "  #Traduz um termo regional para a língua de destino.\n",
        "  prompt = f\"Traduza a seguinte palavra ou expressão regional brasileira do {estado} para {lingua_destino}: '{termo}'\"\n",
        "  return enviar_prompt(prompt)\n",
        "\n",
        "def explicar_geracao(termo, geracao_origem, geracao_destino):\n",
        "  #Explica um termo da geração de origem na linguagem da geração de destino.\n",
        "  prompt = f\"Explique a seguinte palavra ou expressão da Geração {geracao_origem} na linguagem da Geração {geracao_destino}: '{termo}'\"\n",
        "  return enviar_prompt(prompt)\n",
        "\n",
        "def visualizar_termos_regionais(estado, lingua, top_n=10):\n",
        "  #Lista os termos regionais mais relevantes de uma região e em uma língua.\n",
        "  prompt = f\"Liste os {top_n} termos ou expressões regionais mais relevantes da região '{estado}' e traduza-os para '{lingua}'.\"\n",
        "  return enviar_prompt(prompt)\n",
        "\n",
        "def main():\n",
        "  #Função principal para executar o chatbot.\n",
        "  print(\"Bem-vindo ao EntendAI!\")\n",
        "\n",
        "  while True:\n",
        "    print(\"\\nSelecione uma opção:\")\n",
        "    print(\"1. Tradução Regional\")\n",
        "    print(\"2. Tradução entre Gerações\")\n",
        "    print(\"3. Sair\")\n",
        "\n",
        "    opcao = input(\"Digite o número da sua escolha: \")\n",
        "\n",
        "    if opcao == '1':\n",
        "      estado = input(\"Digite a região (estado brasileiro): \")\n",
        "      termo = input(\"Digite a palavra ou expressão regional: \")\n",
        "      lingua_destino = input(\"Digite a língua para tradução: \")\n",
        "      resultado = traduzir_regional(termo, estado, lingua_destino)\n",
        "      display(to_markdown(f\"Tradução para {lingua_destino}: {resultado}\"))\n",
        "      visualizar = input(\"Gostaria de visualizar termos relevantes da região? (s/n): \")\n",
        "\n",
        "      while visualizar.lower() not in ['s', 'n']:\n",
        "        print(\"\\nOpção inválida. Por favor, tente novamente.\\n\")\n",
        "        visualizar = input(\"Gostaria de visualizar termos relevantes da região? (s/n): \")\n",
        "\n",
        "      if visualizar.lower() == 's':\n",
        "        regiao = input(\"Digite o estado: \")\n",
        "        lingua_visualizar = input(\"Digite a língua para visualizar os termos: \")\n",
        "        termos = visualizar_termos_regionais(regiao, lingua_visualizar)\n",
        "        display(to_markdown(f\"Termos relevantes de {regiao} ({lingua_visualizar}):\\n{termos}\"))\n",
        "\n",
        "      elif visualizar.lower() == 'n':\n",
        "        print(\"\\n O que deseja fazer agora?\\n\")\n",
        "\n",
        "    elif opcao == '2':\n",
        "      geracao_origem = input(\"Digite a geração de origem (Alpha, Z, X, Y, Baby Boomers): \")\n",
        "      termo = input(\"Digite a palavra ou expressão: \")\n",
        "      geracao_destino = input(\"Digite a geração de destino (Alpha, X, Y, Baby Boomers): \")\n",
        "      resultado = explicar_geracao(termo, geracao_origem, geracao_destino)\n",
        "      display(to_markdown(f\"Explicação para a Geração {geracao_destino}: {resultado}\"))\n",
        "\n",
        "    elif opcao == '3':\n",
        "      print(\"\\n Obrigado por usar o EntendAI!\")\n",
        "      break\n",
        "\n",
        "    else:\n",
        "      print(\"\\n Opção inválida. Por favor, tente novamente.\")\n",
        "\n",
        "main()"
      ],
      "metadata": {
        "id": "RUSPE01zl0FH"
      },
      "execution_count": null,
      "outputs": []
    }
  ]
}