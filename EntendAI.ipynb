{
  "nbformat": 4,
  "nbformat_minor": 0,
  "metadata": {
    "colab": {
      "provenance": [],
      "authorship_tag": "ABX9TyOBdrKlhWgDJhBlHiJB21g/",
      "include_colab_link": true
    },
    "kernelspec": {
      "name": "python3",
      "display_name": "Python 3"
    },
    "language_info": {
      "name": "python"
    }
  },
  "cells": [
    {
      "cell_type": "markdown",
      "metadata": {
        "id": "view-in-github",
        "colab_type": "text"
      },
      "source": [
        "<a href=\"https://colab.research.google.com/github/MGino-BR/EntendAI/blob/main/EntendAI.ipynb\" target=\"_parent\"><img src=\"https://colab.research.google.com/assets/colab-badge.svg\" alt=\"Open In Colab\"/></a>"
      ]
    },
    {
      "cell_type": "markdown",
      "source": [
        "# Projeto EntendAI"
      ],
      "metadata": {
        "id": "mNT0y0OodquT"
      }
    },
    {
      "cell_type": "markdown",
      "source": [
        "Prepare-se para desvendar os mistérios da comunicação, sem fronteiras! Já se pegou boiando em uma conversa com um amigo de outro estado? Ou tentando decifrar o que seu sobrinho Gen Z quis dizer com \"cringe\"? Se a resposta é sim, então EntendAI é o seu novo melhor amigo!\n",
        "\n",
        "Este incrível chatbot foi criado para te ajudar a navegar pelas fascinantes águas da linguagem regional brasileira e pelos códigos comunicacionais das diferentes gerações. Com o EntendAI, você poderá traduzir gírias de cada canto do Brasil e finalmente entender se o \"barril\" do seu colega carioca é a mesma coisa que o \"barril\" do seu vizinho baiano.\n",
        "\n",
        "E tem mais! Para facilitar a comunicação com turistas, estrangeiros e aquela galera que está aprendendo português, o EntendAI também traduz o significado desses termos regionais para diversas outras línguas! Agora, entender o \"arretado\" do nordestino ou o \"tri legal\" do sul nunca foi tão fácil, não importa de onde você seja! E não para por aí! Desvende os segredos da comunicação entre gerações, traduzindo aquele \"se joga\" da sua tia Baby Boomer para o \"sextou\" do seu primo Alpha, e quem sabe, até para o \"let's go\" de um amigo gringo!\n",
        "\n",
        "Chega de mal-entendidos, seja você brasileiro ou de qualquer canto do mundo! Mergulhe no universo EntendAI e torne suas conversas mais ricas, acessíveis e divertidas!"
      ],
      "metadata": {
        "id": "QWQkUfYpe6ne"
      }
    },
    {
      "cell_type": "markdown",
      "source": [
        "## Configurações Iniciais\n",
        "\n"
      ],
      "metadata": {
        "id": "HEehz5JkfhxH"
      }
    },
    {
      "cell_type": "markdown",
      "source": [
        "Instalação de biblioteca Python dos modelos IA do Google.\n",
        "\n",
        "---\n",
        "\n"
      ],
      "metadata": {
        "id": "H57iQKTYgOoq"
      }
    },
    {
      "cell_type": "code",
      "execution_count": 139,
      "metadata": {
        "id": "7w76bPAib0kB"
      },
      "outputs": [],
      "source": [
        "# Instala a biblioteca Python dos modelos de IA generativa do Google\n",
        "!pip -q install google-genai"
      ]
    },
    {
      "cell_type": "markdown",
      "source": [
        "Configuração da API Key do Google Gemini.\n",
        "\n",
        "---"
      ],
      "metadata": {
        "id": "NbvtCuxMfzhs"
      }
    },
    {
      "cell_type": "code",
      "source": [
        "# Configura a API Key do Google Gemini\n",
        "import os\n",
        "from google.colab import userdata\n",
        "\n",
        "os.environ[\"GOOGLE_API_KEY\"] = userdata.get('GOOGLE_API_KEY')"
      ],
      "metadata": {
        "id": "Iekdeu1bgylz"
      },
      "execution_count": 140,
      "outputs": []
    },
    {
      "cell_type": "markdown",
      "source": [
        "Configuração da SDK do Gemini.\n",
        "\n",
        "---"
      ],
      "metadata": {
        "id": "k-cRdYo5h5V6"
      }
    },
    {
      "cell_type": "code",
      "source": [
        "# Configura o cliente da SDK do Gemini\n",
        "from google import genai\n",
        "\n",
        "client = genai.Client()\n",
        "\n",
        "MODEL_ID = \"gemini-2.0-flash\""
      ],
      "metadata": {
        "id": "dGIeDfDVh8i4"
      },
      "execution_count": 141,
      "outputs": []
    },
    {
      "cell_type": "markdown",
      "source": [
        "Configuração de exibição de texto formatado no Colab.\n",
        "\n",
        "---"
      ],
      "metadata": {
        "id": "syMHTF8km0C_"
      }
    },
    {
      "cell_type": "code",
      "source": [
        "# Função auxiliar para exibir texto formatado em Markdown no Colab\n",
        "from IPython.display import HTML, Markdown, display\n",
        "import textwrap\n",
        "\n",
        "def to_markdown(text):\n",
        "  text = text.replace('•', '  *')\n",
        "  return Markdown(textwrap.indent(text, '> ', predicate=lambda _: True))"
      ],
      "metadata": {
        "id": "L8ROQ0iBm6jT"
      },
      "execution_count": 142,
      "outputs": []
    },
    {
      "cell_type": "markdown",
      "source": [
        "## Configuração inicial para utilização dos agentes de IA"
      ],
      "metadata": {
        "id": "PNLuY3FCwHz4"
      }
    },
    {
      "cell_type": "markdown",
      "source": [
        "Instalação de biblioteca ADK\n",
        "\n",
        "---"
      ],
      "metadata": {
        "id": "VuvMbmX_wg4E"
      }
    },
    {
      "cell_type": "code",
      "source": [
        "# Instalar Framework ADK de agentes do Google\n",
        "!pip install -q google-adk"
      ],
      "metadata": {
        "id": "u3R3IgJpwSdS"
      },
      "execution_count": 143,
      "outputs": []
    },
    {
      "cell_type": "markdown",
      "source": [
        "Importação das ferramentas para os agentes de IA\n",
        "\n",
        "---"
      ],
      "metadata": {
        "id": "ba0WdXBcwnI_"
      }
    },
    {
      "cell_type": "code",
      "source": [
        "from google.adk.agents import Agent\n",
        "from google.adk.runners import Runner\n",
        "from google.adk.sessions import InMemorySessionService\n",
        "from google.adk.tools import google_search\n",
        "from google.genai import types  # Para criar conteúdos (Content e Part)\n",
        "from datetime import date\n",
        "import textwrap # Para formatar melhor a saída de texto\n",
        "from IPython.display import display, Markdown # Para exibir texto formatado no Colab\n",
        "import requests # Para fazer requisições HTTP\n",
        "import warnings\n",
        "\n",
        "warnings.filterwarnings(\"ignore\")"
      ],
      "metadata": {
        "id": "7-qr3eUXweCA"
      },
      "execution_count": 144,
      "outputs": []
    },
    {
      "cell_type": "markdown",
      "source": [
        "Declaração da função de chamada dos agentes de IA\n",
        "\n",
        "---"
      ],
      "metadata": {
        "id": "91fPJTh4xP7N"
      }
    },
    {
      "cell_type": "code",
      "source": [
        "# Função auxiliar que envia uma mensagem para um agente via Runner e retorna a resposta final\n",
        "def call_agent(agent: Agent, message_text: str) -> str:\n",
        "    # Cria um serviço de sessão em memória\n",
        "    session_service = InMemorySessionService()\n",
        "    # Cria uma nova sessão (você pode personalizar os IDs conforme necessário)\n",
        "    session = session_service.create_session(app_name=agent.name, user_id=\"user1\", session_id=\"session1\")\n",
        "    # Cria um Runner para o agente\n",
        "    runner = Runner(agent=agent, app_name=agent.name, session_service=session_service)\n",
        "    # Cria o conteúdo da mensagem de entrada\n",
        "    content = types.Content(role=\"user\", parts=[types.Part(text=message_text)])\n",
        "\n",
        "    final_response = \"\"\n",
        "    # Itera assincronamente pelos eventos retornados durante a execução do agente\n",
        "    for event in runner.run(user_id=\"user1\", session_id=\"session1\", new_message=content):\n",
        "        if event.is_final_response():\n",
        "          for part in event.content.parts:\n",
        "            if part.text is not None:\n",
        "              final_response += part.text\n",
        "              final_response += \"\\n\"\n",
        "    return final_response"
      ],
      "metadata": {
        "id": "zDlNaRglxbgK"
      },
      "execution_count": 145,
      "outputs": []
    },
    {
      "cell_type": "markdown",
      "source": [
        "## Configuração dos Agentes de IA"
      ],
      "metadata": {
        "id": "t6m6SMgUyrLb"
      }
    },
    {
      "cell_type": "markdown",
      "source": [
        "Agente 1: Tradutor Regional do Brasil\n",
        "\n",
        "---"
      ],
      "metadata": {
        "id": "6vIexMTYy9BR"
      }
    },
    {
      "cell_type": "code",
      "source": [
        "# Agente 1: Especialista em Tradução Regional do Brasil\n",
        "def agente_tradutor_regional(opcao, termo, estado, lingua_destino):\n",
        "\n",
        "    tradutor_regional = Agent(\n",
        "        name = \"agente_tradutor_regional\",\n",
        "        model = \"gemini-2.0-flash\",\n",
        "        instruction = \"\"\"\n",
        "        Você é um assistente especialista de tradução regional do Brasil para qualquer lingua. A sua tarefa é usar a ferramenta de busca do Google (google_search)\n",
        "        para procurar pelo significado atualizado da palavra ou expressões regionais solicitadas de acordo com a região (estado brasileiro) e retornar\n",
        "        o resultado traduzido para a lingua selecionada.\n",
        "        Certifique-se de revisar o resultado da busca e retornar apenas a tradução precisa e atualizada da palavra ou expressão regional solicitada.\n",
        "        Suas respostas devem ser claras, sucintas e com no máximo 5 significados.\n",
        "        Se não encontrar termos relevantes, informe que não conseguiu encontrar a tradução.\n",
        "        Se o estado informado não for válido, informe que não conseguiu encontrar a região.\n",
        "        Se a lingua informada não for válida, informe que não conseguiu encontrar a lingua.\n",
        "        O seu tom deve ser lúdico e divertido.\n",
        "        Nunca demore mais que 05 segundos para responder.\n",
        "        Evite qualquer texto introdutório ou repetição do pedido original.\n",
        "        Se a lingua de destino for português, retorne o significado ou uma breve explicação do termo ou expressão regional na própria língua portuguesa,\n",
        "        se relevante. Para a listagem de termos regionais, apenas liste os termos relevantes da região.\n",
        "        \"\"\",\n",
        "        description = \"Agente que busca e retorna a tradução de palavras e expressões regionais baseado na regiãoe na lingua final selecionada.\",\n",
        "        tools = [google_search],\n",
        "    )\n",
        "\n",
        "    if opcao == '1':\n",
        "      entrada_do_agente_tradutor_regional = f\"Traduza a seguinte palavra ou expressão regional brasileira do {estado} para {lingua_destino}: '{termo}'\"\n",
        "    elif opcao == '2':\n",
        "      entrada_do_agente_tradutor_regional = f\"Liste os 20 termos ou expressões regionais mais relevantes da região '{estado}'do Brasil e traduza-os para '{lingua_destino}'.\"\n",
        "\n",
        "    traducao_regional = call_agent(tradutor_regional, entrada_do_agente_tradutor_regional)\n",
        "    return traducao_regional"
      ],
      "metadata": {
        "id": "IwJwerOzyq3e"
      },
      "execution_count": 146,
      "outputs": []
    },
    {
      "cell_type": "markdown",
      "source": [
        "Agente 2: Especialista em Tradução Integeracional\n",
        "\n",
        "---"
      ],
      "metadata": {
        "id": "xY1FbUyZ0jfK"
      }
    },
    {
      "cell_type": "code",
      "source": [
        "# Agente 2: Especialista em Tradução entre Gerações\n",
        "def agente_tradutor_geracao(termo, geracao_origem, geracao_destino):\n",
        "\n",
        "    agente_tradutor_geracao = Agent(\n",
        "        name = \"agente_tradutor_geracao\",\n",
        "        model = \"gemini-2.0-flash\",\n",
        "        instruction = \"\"\"\n",
        "        Você é um assistente especialista de tradução entre gerações. A sua tarefa é usar a ferramenta de busca do Google (google_search)\n",
        "        para procurar pelo significado atualizado da palavra ou expressões da geração solicitada e retornar\n",
        "        o resultado traduzido usando termos que a geração destino entenda.\n",
        "        Certifique-se de revisar o resultado da busca e retornar apenas a tradução precisa e atualizada da palavra ou expressão solicitada.\n",
        "        Suas respostas devem ser claras, sucintas.\n",
        "        Se não encontrar termos relevantes, informe que não conseguiu encontrar a tradução.\n",
        "        O seu tom deve ser lúdico e divertido.\n",
        "        Nunca demore mais que 05 segundos para responder.\n",
        "        Evite qualquer texto introdutório ou repetição do pedido original.\n",
        "        Se a expressão informada não pertencer a geração ORIGEM também informada, retorne que a expressão não é conhecida por essa geração. Depois diga qual é a geração\n",
        "        correta e der uma pequena explicação na geração DESTINO informada.\n",
        "        \"\"\",\n",
        "        description = \"Agente que busca e retorna a tradução de palavras e expressões de uma geração para explicar na forma que a geração destino selecionada entende.\",\n",
        "        tools = [google_search],\n",
        "    )\n",
        "\n",
        "    entrada_do_agente_tradutor_geracao = f\"Explique a seguinte palavra ou expressão da Geração {geracao_origem} na linguagem da Geração {geracao_destino}: '{termo}'\"\n",
        "\n",
        "    traducao_geracao = call_agent(agente_tradutor_geracao, entrada_do_agente_tradutor_geracao)\n",
        "    return traducao_geracao"
      ],
      "metadata": {
        "id": "40ZAi2Z70sWM"
      },
      "execution_count": 147,
      "outputs": []
    },
    {
      "cell_type": "markdown",
      "source": [
        "## Código do Projeto\n",
        "---"
      ],
      "metadata": {
        "id": "oX08hCHekHoL"
      }
    },
    {
      "cell_type": "code",
      "source": [
        "def main():\n",
        "  #Função principal para executar o chatbot.\n",
        "  print(\"Bem-vindo ao EntendAI!\")\n",
        "\n",
        "  #Seleção das Opções\n",
        "  while True:\n",
        "    print(\"\\nSelecione o que deseja fazer:\")\n",
        "    print(\"1. Traduzir termo regional\")\n",
        "    print(\"2. Ver lista de termos regionais\")\n",
        "    print(\"3. Traduzir termos entre Gerações\")\n",
        "    print(\"4. Sair\")\n",
        "\n",
        "    opcao = input(\"Digite o número da sua escolha: \")\n",
        "\n",
        "    #Traduzindo termo regional\n",
        "    if opcao == '1':\n",
        "      estado = input(\"\\nDigite a região (estado brasileiro): \")\n",
        "      lingua_destino = input(\"\\nDigite a língua para tradução: \")\n",
        "      continuar_traduzindo_regional = 's'  # Forçando o valor inicial para \"s\"\n",
        "      while continuar_traduzindo_regional == 's':\n",
        "        termo = input(\"\\nDigite o termo regional: \")\n",
        "        resultado_termo = agente_tradutor_regional(opcao, termo, estado, lingua_destino)\n",
        "        print(\"\\n🔍 Resultado\")\n",
        "        display(to_markdown(resultado_termo))\n",
        "        continuar_traduzindo_regional = input(\"\\nDeseja traduzir outra palavra ou expressão regional? (s/n): \")\n",
        "        while continuar_traduzindo_regional.lower() not in ['s', 'n']: #verificação de entradas válidas\n",
        "              print(\"\\nOpção inválida. Por favor, tente novamente.\\n\")\n",
        "              continuar_traduzindo_regional = input(\"\\nDeseja traduzir outra palavra ou expressão regional? (s/n): \")\n",
        "        if continuar_traduzindo_regional.lower() != 's':\n",
        "              print(\"\\nO que deseja fazer agora?\\n\")\n",
        "              break # Sai do loop de tradução regional e volta para a seleção principal\n",
        "\n",
        "    #Visualizando lista de termos regionais\n",
        "    elif opcao == '2':\n",
        "        estado = input(\"\\nDigite a região (estado brasileiro): \")\n",
        "        lingua_destino = input(\"\\nDigite a língua para tradução: \")\n",
        "        termo='' # Forçando o valor inicial para ''\n",
        "        resultado_lista = agente_tradutor_regional(opcao, termo, estado, lingua_destino)\n",
        "        print(f\"\\n📝 Lista Regional\")\n",
        "        display(to_markdown(resultado_lista))\n",
        "        print(\"\\nO que deseja fazer agora?\\n\")\n",
        "\n",
        "    #Traduzindo entre gerações\n",
        "    elif opcao == '3':\n",
        "      geracao_origem = input(\"\\nDigite a geração de ORIGEM (Alpha, Z, X, Y, Baby Boomers): \")\n",
        "      geracao_destino = input(\"\\nDigite a geração de DESTINO (Alpha, X, Y, Baby Boomers): \")\n",
        "      continuar_traduzindo_geracao = 's'  # Forçando o valor inicial para \"s\"\n",
        "      while continuar_traduzindo_geracao == 's':\n",
        "        termo = input(\"\\nDigite a palavra ou expressão: \")\n",
        "        resultado_geracao = agente_tradutor_geracao(termo, geracao_origem, geracao_destino)\n",
        "        print(f\"\\n✍️ Resultado da Tradução Intergeracional\")\n",
        "        display(to_markdown(resultado_geracao))\n",
        "        continuar_traduzindo_geracao = input(\"\\nDeseja traduzir outra expressão entre essas gerações? (s/n): \")\n",
        "        while continuar_traduzindo_geracao.lower() not in ['s', 'n']: #verificação de entradas válidas\n",
        "              print(\"\\nOpção inválida. Por favor, tente novamente.\\n\")\n",
        "              continuar_traduzindo_geracao = input(\"\\nDeseja traduzir outra expressão entre essas gerações? (s/n): \")\n",
        "        if continuar_traduzindo_geracao.lower() != 's':\n",
        "              print(\"\\nO que deseja fazer agora?\\n\")\n",
        "              break # Sai do loop de tradução regional e volta para a seleção principal\n",
        "\n",
        "    #saindo e encerrando o programa.\n",
        "    elif opcao == '4':\n",
        "      print(\"\\n Obrigado por usar o EntendAI!\")\n",
        "      break\n",
        "\n",
        "    #verificação de entradas válidas\n",
        "    else:\n",
        "      print(\"\\n Opção inválida. Por favor, tente novamente.\")\n",
        "\n",
        "main()"
      ],
      "metadata": {
        "id": "RUSPE01zl0FH"
      },
      "execution_count": null,
      "outputs": []
    }
  ]
}